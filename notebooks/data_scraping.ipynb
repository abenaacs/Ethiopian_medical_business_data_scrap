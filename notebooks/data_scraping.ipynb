{
 "cells": [
  {
   "cell_type": "code",
   "execution_count": null,
   "metadata": {},
   "outputs": [],
   "source": [
    "# Import necessary libraries\n",
    "from data_collection.telegram_scraper import TelegramScraper\n",
    "from data_collection.image_scraper import ImageScraper\n",
    "from data_collection.config import TELEGRAM_API_ID, TELEGRAM_API_HASH, CHANNELS_TO_SCRAPE, IMAGE_DIR\n",
    "import asyncio\n",
    "\n",
    "# Initialize Telegram Scraper\n",
    "scraper = TelegramScraper(TELEGRAM_API_ID, TELEGRAM_API_HASH)\n",
    "\n",
    "# Scrape Telegram Channels\n",
    "async def run_telegram_scraper():\n",
    "    await scraper.scrape_channels(CHANNELS_TO_SCRAPE, 'data/raw_data.json')\n",
    "\n",
    "# Run the scraper\n",
    "await run_telegram_scraper()\n",
    "\n",
    "# Initialize Image Scraper\n",
    "image_scraper = ImageScraper('https://t.me/lobelia4cosmetics', IMAGE_DIR)\n",
    "\n",
    "# Download Images\n",
    "image_urls = ['https://example.com/image1.jpg', 'https://example.com/image2.jpg']\n",
    "image_scraper.download_images(image_urls)"
   ]
  }
 ],
 "metadata": {
  "kernelspec": {
   "display_name": "env",
   "language": "python",
   "name": "python3"
  },
  "language_info": {
   "name": "python",
   "version": "3.9.13"
  }
 },
 "nbformat": 4,
 "nbformat_minor": 2
}
