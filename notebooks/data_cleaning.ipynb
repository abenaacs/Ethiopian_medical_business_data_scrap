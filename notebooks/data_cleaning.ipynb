{
 "cells": [
  {
   "cell_type": "code",
   "execution_count": null,
   "metadata": {},
   "outputs": [],
   "source": [
    "# Import necessary libraries\n",
    "from data_cleaning.cleaner import DataCleaner\n",
    "from data_cleaning.config import RAW_DATA_FILE, CLEANED_DATA_FILE\n",
    "\n",
    "# Initialize Data Cleaner\n",
    "cleaner = DataCleaner(RAW_DATA_FILE, CLEANED_DATA_FILE)\n",
    "\n",
    "# Clean the data\n",
    "cleaner.clean_data()\n",
    "\n",
    "# Load cleaned data for inspection\n",
    "import pandas as pd\n",
    "with open(CLEANED_DATA_FILE, 'r') as f:\n",
    "    cleaned_data = json.load(f)\n",
    "\n",
    "df = pd.DataFrame(cleaned_data)\n",
    "display(df.head())"
   ]
  },
  {
   "cell_type": "code",
   "execution_count": null,
   "metadata": {},
   "outputs": [],
   "source": []
  },
  {
   "cell_type": "markdown",
   "metadata": {},
   "source": []
  }
 ],
 "metadata": {
  "kernelspec": {
   "display_name": "env",
   "language": "python",
   "name": "python3"
  },
  "language_info": {
   "name": "python",
   "version": "3.9.13"
  }
 },
 "nbformat": 4,
 "nbformat_minor": 2
}
